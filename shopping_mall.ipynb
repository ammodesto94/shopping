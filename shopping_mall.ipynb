{
 "cells": [
  {
   "cell_type": "code",
   "execution_count": null,
   "id": "41326bfd",
   "metadata": {},
   "outputs": [
    {
     "name": "stdout",
     "output_type": "stream",
     "text": [
      "\n",
      "Shopping Basket Options\n",
      "=======================\n",
      "1: Add item\n",
      "2: Remove item\n",
      "3: View Basket\n",
      "0:Exit Program\n",
      "     \n",
      "\n",
      "Enter an option: 1\n",
      "Enter an item: apple\n",
      "Enter the quantity: 3\n",
      "How much does your apple cost? 5.00\n",
      "\n",
      "\n",
      "Enter an option: 1\n",
      "Enter an item: pear\n",
      "Enter the quantity: 3\n",
      "How much does your pear cost? 4.00\n",
      "\n",
      "\n",
      "Enter an option: 3\n",
      "apple 4.0 : 3\n",
      "pear 4.0 : 3\n"
     ]
    }
   ],
   "source": [
    "shopping_basket = {}\n",
    "\n",
    "print (\"\"\"\n",
    "Shopping Basket Options\n",
    "=======================\n",
    "1: Add item\n",
    "2: Remove item\n",
    "3: View Basket\n",
    "0:Exit Program\n",
    "     \n",
    "\"\"\")\n",
    "\n",
    "option = int(input(\"Enter an option: \"))\n",
    "\n",
    "\n",
    "while option != 0:\n",
    "    if option == 1:\n",
    "        item = input(\"Enter an item: \")\n",
    "        qnty = int(input(\"Enter the quantity: \"))\n",
    "        price = float(input(f'How much does your {item} cost? '))\n",
    "        shopping_basket[item]= qnty\n",
    "       \n",
    "    elif option == 2:\n",
    "        item = input(\"Enter an item: \")\n",
    "        del(shopping_basket[item])\n",
    "    elif option == 3:\n",
    "        for item in shopping_basket:\n",
    "            print(item,price, \":\", shopping_basket[item])\n",
    "    \n",
    "    elif option != 0:\n",
    "        print(\"you didn't enter a valid number. \")\n",
    "            \n",
    "                   \n",
    "    option = int(input(\"\\n\\nEnter an option: \"))\n",
    "\n",
    "else:\n",
    "    print(\"shopping basket program closed. \")"
   ]
  },
  {
   "cell_type": "code",
   "execution_count": 30,
   "id": "fa875a06",
   "metadata": {},
   "outputs": [
    {
     "name": "stdout",
     "output_type": "stream",
     "text": [
      "2\n",
      "3\n",
      "5\n",
      "7\n",
      "11\n",
      "13\n",
      "17\n",
      "19\n",
      "23\n",
      "29\n",
      "31\n",
      "37\n",
      "41\n",
      "43\n",
      "47\n",
      "53\n",
      "59\n",
      "61\n",
      "67\n",
      "71\n",
      "73\n",
      "79\n",
      "83\n",
      "89\n",
      "97\n"
     ]
    }
   ],
   "source": [
    "    "
   ]
  },
  {
   "cell_type": "code",
   "execution_count": null,
   "id": "37ce9e79",
   "metadata": {},
   "outputs": [],
   "source": []
  },
  {
   "cell_type": "code",
   "execution_count": null,
   "id": "86823af5",
   "metadata": {},
   "outputs": [],
   "source": []
  },
  {
   "cell_type": "code",
   "execution_count": null,
   "id": "22048603",
   "metadata": {},
   "outputs": [],
   "source": []
  }
 ],
 "metadata": {
  "kernelspec": {
   "display_name": "Python 3 (ipykernel)",
   "language": "python",
   "name": "python3"
  },
  "language_info": {
   "codemirror_mode": {
    "name": "ipython",
    "version": 3
   },
   "file_extension": ".py",
   "mimetype": "text/x-python",
   "name": "python",
   "nbconvert_exporter": "python",
   "pygments_lexer": "ipython3",
   "version": "3.9.7"
  }
 },
 "nbformat": 4,
 "nbformat_minor": 5
}
